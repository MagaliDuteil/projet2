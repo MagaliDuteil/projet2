{
 "cells": [
  {
   "cell_type": "code",
   "execution_count": 1,
   "id": "1570ab9a-02bd-4628-935b-381fc7ea3d73",
   "metadata": {},
   "outputs": [],
   "source": [
    "import pandas as pd\n",
    "import matplotlib.pyplot as plt\n",
    "import matplotlib.cm as cm\n",
    "import seaborn as sns"
   ]
  },
  {
   "cell_type": "code",
   "execution_count": 2,
   "id": "88d0bad6-1930-4c88-b860-1403b4dadcad",
   "metadata": {},
   "outputs": [],
   "source": [
    "df_nyc = pd.read_csv(\"C:/Users/Magal/OneDrive/Bureau/cleaned_new_york_city.csv\")\n",
    "df_nyc = pd.DataFrame(df_nyc) # New York City\n",
    "\n",
    "df_wash = pd.read_csv(\"C:/Users/Magal/OneDrive/Bureau/cleaned_washington_city.csv\")\n",
    "df_wash = pd.DataFrame(df_wash) # Washington\n",
    "\n",
    "df_chi = pd.read_csv(\"C:/Users/Magal/OneDrive/Bureau/cleaned_chicago_city.csv\")\n",
    "df_chi = pd.DataFrame(df_chi) # Chicago"
   ]
  },
  {
   "cell_type": "code",
   "execution_count": 3,
   "id": "c7f62204-98c0-4e75-8d90-4fb7a5689527",
   "metadata": {},
   "outputs": [],
   "source": [
    "# Convertir au format DateTime\n",
    "df_nyc['Start Time'] = pd.to_datetime(df_nyc['Start Time'])\n",
    "df_chi['Start Time'] = pd.to_datetime(df_chi['Start Time'])\n",
    "df_wash['Start Time'] = pd.to_datetime(df_wash['Start Time'])"
   ]
  },
  {
   "cell_type": "code",
   "execution_count": 4,
   "id": "e9426e87-e91b-46b0-aa6d-e0a88d44134e",
   "metadata": {},
   "outputs": [],
   "source": [
    "def jour_activite_max(data):\n",
    "    # Convertir la colonne 'Start Time' en datetime\n",
    "    data['Start Time'] = pd.to_datetime(data['Start Time'])\n",
    "    # Extraire le jour de la semaine (0 = Lundi, 1 = Mardi, ..., 6 = Dimanche)\n",
    "    data['Day of Week'] = data['Start Time'].dt.dayofweek\n",
    "    # Trouver le jour avec le plus d'activité\n",
    "    jour_max = data['Day of Week'].mode()[0]\n",
    "    return jour_max"
   ]
  },
  {
   "cell_type": "code",
   "execution_count": 5,
   "id": "bbf6f770-efea-49c8-9224-b0a0a11346c7",
   "metadata": {},
   "outputs": [],
   "source": [
    "def heure_demarrage_courante(data):\n",
    "    # Convertir la colonne 'Start Time' en datetime\n",
    "    data['Start Time'] = pd.to_datetime(data['Start Time'])\n",
    "    # Extraire l'heure de démarrage\n",
    "    data['Hour'] = data['Start Time'].dt.hour\n",
    "    # Trouver l'heure de démarrage la plus courante\n",
    "    heure_courante = data['Hour'].mode()[0]\n",
    "    return heure_courante"
   ]
  },
  {
   "cell_type": "code",
   "execution_count": 6,
   "id": "fb797467-703a-4bc6-98cd-da0e1132967b",
   "metadata": {},
   "outputs": [],
   "source": [
    "def duree_voyage_moyenne(data):\n",
    "    # Calculer la durée moyenne\n",
    "    df_meanm = data['Trip Duration'].mean()\n",
    "    # Convertir la durée moyenne en heures, minutes et secondes\n",
    "    hours, remainder = divmod(df_meanm, 3600)\n",
    "    minutes, seconds = divmod(remainder, 60)\n",
    "    seconds = round(seconds)\n",
    "    # Formatter en heure:minutes:secondes\n",
    "    return '{:02}:{:02}:{:02}'.format(int(hours), int(minutes), int(seconds))"
   ]
  },
  {
   "cell_type": "code",
   "execution_count": 7,
   "id": "c5ea5b7f-bd4f-4508-8a63-8720261f2dc1",
   "metadata": {},
   "outputs": [],
   "source": [
    "def total_categorie_user(data):\n",
    "    # Compter les occurrences de chaque catégorie\n",
    "    total_categorie = data['User Type'].value_counts()\n",
    "    return total_categorie"
   ]
  },
  {
   "cell_type": "code",
   "execution_count": 8,
   "id": "cba098b0-42a1-44e4-991f-2589902f74f2",
   "metadata": {},
   "outputs": [],
   "source": [
    "def nombre_femmes_hommes(data):\n",
    "    # Compter les occurrences de chaque sexe\n",
    "    data['Gender'] = data['Gender'].replace({0: 'femme', 1: 'homme', 2: 'autre'})\n",
    "    nombre_sexe = data['Gender'].value_counts()\n",
    "    return nombre_sexe"
   ]
  },
  {
   "cell_type": "code",
   "execution_count": 9,
   "id": "5712a222-31a5-4fec-9085-c8fe12460bc1",
   "metadata": {},
   "outputs": [],
   "source": [
    "def annee_naissance(data):\n",
    "    # Supprimer les lignes avec des valeurs manquantes\n",
    "    data = data.dropna(subset=['Birth Year'])\n",
    "    # Convertir la colonne 'Birth Year' en entier\n",
    "    # data['Birth Year'] = data['Birth Year'].astype(int)\n",
    "    # Calculer l'année la plus ancienne, la plus récente et la plus courante\n",
    "    annee_ancienne = data['Birth Year'].min()\n",
    "    annee_recente = data['Birth Year'].max()\n",
    "    annee_courante = data['Birth Year'].value_counts().sort_values(ascending=False).index[0]\n",
    "    return annee_ancienne, annee_recente, annee_courante"
   ]
  },
  {
   "cell_type": "code",
   "execution_count": 10,
   "id": "0dde05c2-7fed-4824-9dc8-c903dc8e3a73",
   "metadata": {},
   "outputs": [],
   "source": [
    "def afficher_donnees(data):\n",
    "    print(data.head(10))"
   ]
  },
  {
   "cell_type": "code",
   "execution_count": null,
   "id": "6b88787b-bccf-4f11-af32-1ddd0711cc29",
   "metadata": {},
   "outputs": [],
   "source": []
  },
  {
   "cell_type": "code",
   "execution_count": 11,
   "id": "73a97271-44c6-4879-b1e7-384ee92f1f5f",
   "metadata": {},
   "outputs": [
    {
     "name": "stdin",
     "output_type": "stream",
     "text": [
      "Veuillez choisir une ville parmi New York City, Chicago ou Washington ou Close pour fermer : Chicago\n",
      "Veuillez choisir le moi :\t 7 = juillet \t 8 = aout \t 9 = septembre 8\n"
     ]
    },
    {
     "name": "stdout",
     "output_type": "stream",
     "text": [
      "\n",
      "Statistiques pour Chicago en 8 :\n",
      "\n",
      "Jour de la semaine avec le plus d'activité : 1\n",
      "Heure de démarrage la plus courante : 17h\n",
      "La durée moyenne d'un trajet est de : 00:18:39\n",
      "\n",
      "Total par catégorie de User :\n",
      "User Type\n",
      "Subscriber    935707\n",
      "Customer      112868\n",
      "Name: count, dtype: int64\n",
      "\n",
      "Nombre total de femmes et d'hommes :\n",
      "Gender\n",
      "homme    691486\n",
      "autre    244663\n",
      "femme    112426\n",
      "Name: count, dtype: int64\n",
      "\n",
      "Année de naissance la plus ancienne : 1885.0\n",
      "Année de naissance la plus récente : 2001.0\n",
      "Année de naissance la plus courante : 1990.0 (41090 occurrences)\n",
      "\n",
      "Voulez-vous afficher les 10 premières lignes de données ? (oui/non)\n"
     ]
    },
    {
     "name": "stdin",
     "output_type": "stream",
     "text": [
      " oui\n"
     ]
    },
    {
     "name": "stdout",
     "output_type": "stream",
     "text": [
      "   Trip Duration          Start Time             End Time  Start Station ID  \\\n",
      "0            578 2017-12-01 00:00:29  2017-12-01 00:10:08               368   \n",
      "1            682 2017-12-01 00:00:36  2017-12-01 00:11:59              3136   \n",
      "2           2262 2017-12-01 00:00:40  2017-12-01 00:38:23              3175   \n",
      "3            213 2017-12-01 00:00:45  2017-12-01 00:04:18               383   \n",
      "4            465 2017-12-01 00:00:44  2017-12-01 00:08:30               280   \n",
      "5            185 2017-12-01 00:00:47  2017-12-01 00:03:53               291   \n",
      "6            612 2017-12-01 00:00:47  2017-12-01 00:10:59               307   \n",
      "7            179 2017-12-01 00:00:53  2017-12-01 00:03:53               368   \n",
      "8            606 2017-12-01 00:00:58  2017-12-01 00:11:04               345   \n",
      "9           2413 2017-12-01 00:01:07  2017-12-01 00:41:21              3534   \n",
      "\n",
      "                   Start Station Name  Start Station Latitude  \\\n",
      "0                  Carmine St & 6 Ave               40.730386   \n",
      "1                     5 Ave & E 63 St               40.766368   \n",
      "2             W 70 St & Amsterdam Ave               40.777480   \n",
      "3          Greenwich Ave & Charles St               40.735238   \n",
      "4                     E 10 St & 5 Ave               40.733320   \n",
      "5          Madison St & Montgomery St               40.713126   \n",
      "6               Canal St & Rutgers St               40.714275   \n",
      "7                  Carmine St & 6 Ave               40.730386   \n",
      "8                     W 13 St & 6 Ave               40.736494   \n",
      "9  Frederick Douglass Blvd & W 117 St               40.805159   \n",
      "\n",
      "   Start Station Longitude  End Station ID               End Station Name  \\\n",
      "0               -74.002150             505                6 Ave & W 33 St   \n",
      "1               -73.971518             529                W 42 St & 8 Ave   \n",
      "2               -73.982886             438            St Marks Pl & 1 Ave   \n",
      "3               -74.000271             284          Greenwich Ave & 8 Ave   \n",
      "4               -73.995101             284          Greenwich Ave & 8 Ave   \n",
      "5               -73.984844             307          Canal St & Rutgers St   \n",
      "6               -73.989900             502            Henry St & Grand St   \n",
      "7               -74.002150             358  Christopher St & Greenwich St   \n",
      "8               -73.997044             336    Sullivan St & Washington Sq   \n",
      "9               -73.954692             479                9 Ave & W 45 St   \n",
      "\n",
      "   End Station Latitude  End Station Longitude  Bike ID   User Type  \\\n",
      "0             40.749013             -73.988484    31208  Subscriber   \n",
      "1             40.757570             -73.990985    16957  Subscriber   \n",
      "2             40.727791             -73.985649    27807  Subscriber   \n",
      "3             40.739017             -74.002638    20842  Subscriber   \n",
      "4             40.739017             -74.002638    31467  Subscriber   \n",
      "5             40.714275             -73.989900    30299  Subscriber   \n",
      "6             40.714215             -73.981346    33129  Subscriber   \n",
      "7             40.732916             -74.007114    20806  Subscriber   \n",
      "8             40.730477             -73.999061    26101  Subscriber   \n",
      "9             40.760193             -73.991255    32118  Subscriber   \n",
      "\n",
      "   Birth Year Gender  Day of Week  Hour  \n",
      "0      1981.0  homme            4     0  \n",
      "1         NaN  femme            4     0  \n",
      "2      1975.0  homme            4     0  \n",
      "3      1985.0  autre            4     0  \n",
      "4      1992.0  homme            4     0  \n",
      "5      1975.0  homme            4     0  \n",
      "6      1969.0  homme            4     0  \n",
      "7      1990.0  homme            4     0  \n",
      "8      1996.0  homme            4     0  \n",
      "9      1980.0  autre            4     0  \n",
      "\n",
      "Voulez-vous effectuer une autre recherche ? (oui/non)\n"
     ]
    },
    {
     "name": "stdin",
     "output_type": "stream",
     "text": [
      " non\n"
     ]
    }
   ],
   "source": [
    "# Fonction principale de l'application\n",
    "def main():\n",
    "    while True:\n",
    "        # Demander à l'utilisateur de choisir la ville et le mois\n",
    "        ville = input(\"Veuillez choisir une ville parmi New York City, Chicago ou Washington ou Close pour fermer :\")\n",
    "       \n",
    "        if ville not in ['New York City', 'Chicago', 'Washington', 'Close']:\n",
    "            print(\"Ville invalide. Veuillez choisir une ville parmi New York City, Chicago ou Washington.\")\n",
    "            continue\n",
    "        \n",
    "        if ville == 'New York City':\n",
    "            mois = input(\"Veuillez choisir le moi :\\t 1 = janvier \\t 2 = février \\t 3 = mars \\t 4 = avril \\t 5 = mai \\t 6 = juin \")\n",
    "            data = df_nyc\n",
    "            # Extraction du mois à partir de la colonne 'Start Time'\n",
    "            data['Month'] = data['Start Time'].dt.month\n",
    "            # Filtrez les données pour les six premiers mois de l'année (janvier à juin)\n",
    "            data = data[data['Month'].isin([1, 2, 3, 4, 5, 6])]\n",
    "        elif ville == 'Chicago':\n",
    "            mois = input(\"Veuillez choisir le moi :\\t 7 = juillet \\t 8 = aout \\t 9 = septembre\")\n",
    "            data = df_chi\n",
    "            data['Month'] = data['Start Time'].dt.month\n",
    "            data = data[data['Month'].isin([7, 8, 9])]\n",
    "        elif ville == 'Washington':\n",
    "            mois = input(\"Veuillez choisir le moi :\\t 10 = octobre \\t 11 = novembre \\t 12 = décembre\")\n",
    "            data = df_wash\n",
    "            data['Month'] = data['Start Time'].dt.month\n",
    "            data = data[data['Month'].isin([10, 11, 12])]\n",
    "        elif ville == 'Close':\n",
    "            break\n",
    "# Sélectionner les données en fonction de la ville et du mois\n",
    "        if ville == 'new york city':\n",
    "            data = df_nyc\n",
    "        elif ville == 'chicago':\n",
    "            data = df_chi\n",
    "        else:\n",
    "            data = df_wash\n",
    "            \n",
    "             # Calculer les statistiques demandées\n",
    "        jour_max = jour_activite_max(data)\n",
    "        heure_courante = heure_demarrage_courante(data)\n",
    "        duree_moyenne = duree_voyage_moyenne(data)\n",
    "        total_categorie = total_categorie_user(data)\n",
    "        nombre_sexe = nombre_femmes_hommes(data)\n",
    "        annee_ancienne, annee_recente, annee_courante = annee_naissance(data)\n",
    "        \n",
    "        # Afficher les résultats\n",
    "        print(\"\\nStatistiques pour {} en {} :\\n\".format(ville.title(), mois.title()))\n",
    "        print(\"Jour de la semaine avec le plus d'activité : {}\".format(jour_max))\n",
    "        print(\"Heure de démarrage la plus courante : {}h\".format(heure_courante))\n",
    "        print(\"La durée moyenne d'un trajet est de : {}\".format(duree_moyenne))\n",
    "        print(\"\\nTotal par catégorie de User :\\n{}\".format(total_categorie))\n",
    "        print(\"\\nNombre total de femmes et d'hommes :\\n{}\".format(nombre_sexe))\n",
    "        print(\"\\nAnnée de naissance la plus ancienne : {}\".format(annee_ancienne))\n",
    "        print(\"Année de naissance la plus récente : {}\".format(annee_recente))\n",
    "        print(\"Année de naissance la plus courante : {} ({} occurrences)\".format(annee_courante, data['Birth Year'].value_counts().max()))\n",
    "        \n",
    "        # Demander si l'utilisateur souhaite afficher les 10 premières lignes de données\n",
    "        print(\"\\nVoulez-vous afficher les 10 premières lignes de données ? (oui/non)\")\n",
    "        afficher = input().lower()\n",
    "        if afficher == 'oui':\n",
    "            afficher_donnees(data)\n",
    "        \n",
    "        # Demander si l'utilisateur souhaite effectuer une autre recherche\n",
    "        print(\"\\nVoulez-vous effectuer une autre recherche ? (oui/non)\")\n",
    "        autre_recherche = input().lower()\n",
    "        if autre_recherche != 'oui':\n",
    "            break\n",
    "\n",
    "if __name__ == \"__main__\":\n",
    "    main()"
   ]
  },
  {
   "cell_type": "code",
   "execution_count": null,
   "id": "3b824f46-ffe5-4c0f-8831-baa5e6035d79",
   "metadata": {},
   "outputs": [],
   "source": []
  }
 ],
 "metadata": {
  "kernelspec": {
   "display_name": "Python 3 (ipykernel)",
   "language": "python",
   "name": "python3"
  },
  "language_info": {
   "codemirror_mode": {
    "name": "ipython",
    "version": 3
   },
   "file_extension": ".py",
   "mimetype": "text/x-python",
   "name": "python",
   "nbconvert_exporter": "python",
   "pygments_lexer": "ipython3",
   "version": "3.11.6"
  }
 },
 "nbformat": 4,
 "nbformat_minor": 5
}
