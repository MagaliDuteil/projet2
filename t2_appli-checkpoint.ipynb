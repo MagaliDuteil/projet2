{
 "cells": [
  {
   "cell_type": "code",
   "execution_count": 1,
   "id": "1570ab9a-02bd-4628-935b-381fc7ea3d73",
   "metadata": {},
   "outputs": [],
   "source": [
    "import pandas as pd\n",
    "import matplotlib.pyplot as plt\n",
    "import matplotlib.cm as cm\n",
    "import seaborn as sns"
   ]
  },
  {
   "cell_type": "code",
   "execution_count": 2,
   "id": "88d0bad6-1930-4c88-b860-1403b4dadcad",
   "metadata": {},
   "outputs": [
    {
     "name": "stderr",
     "output_type": "stream",
     "text": [
      "C:\\Users\\Magal\\AppData\\Local\\Temp\\ipykernel_17276\\777841564.py:4: DtypeWarning: Columns (14) have mixed types. Specify dtype option on import or set low_memory=False.\n",
      "  df_wash = pd.read_csv(\"C:/Users/Magal/OneDrive/Bureau/cleaned_washington_city.csv\")\n"
     ]
    }
   ],
   "source": [
    "df_nyc = pd.read_csv(\"C:/Users/Magal/OneDrive/Bureau/cleaned_new_york_city.csv\")\n",
    "df_nyc = pd.DataFrame(df_nyc) # New York City\n",
    "\n",
    "df_wash = pd.read_csv(\"C:/Users/Magal/OneDrive/Bureau/cleaned_washington_city.csv\")\n",
    "df_wash = pd.DataFrame(df_wash) # Washington\n",
    "\n",
    "df_chi = pd.read_csv(\"C:/Users/Magal/OneDrive/Bureau/cleaned_chicago_city.csv\")\n",
    "df_chi = pd.DataFrame(df_chi) # Chicago"
   ]
  },
  {
   "cell_type": "code",
   "execution_count": 3,
   "id": "c7f62204-98c0-4e75-8d90-4fb7a5689527",
   "metadata": {},
   "outputs": [],
   "source": [
    "# Convertir au format DateTime\n",
    "df_nyc['Start Time'] = pd.to_datetime(df_nyc['Start Time'])\n",
    "df_chi['Start Time'] = pd.to_datetime(df_chi['Start Time'])\n",
    "df_wash['Start Time'] = pd.to_datetime(df_wash['Start Time'])"
   ]
  },
  {
   "cell_type": "code",
   "execution_count": 4,
   "id": "e9426e87-e91b-46b0-aa6d-e0a88d44134e",
   "metadata": {},
   "outputs": [],
   "source": [
    "def jour_activite_max(data):\n",
    "    # Convertir la colonne 'Start Time' en datetime\n",
    "    data['Start Time'] = pd.to_datetime(data['Start Time'])\n",
    "    # Extraire le jour de la semaine (0 = Lundi, 1 = Mardi, ..., 6 = Dimanche)\n",
    "    data['Day of Week'] = data['Start Time'].dt.dayofweek\n",
    "    # Trouver le jour avec le plus d'activité\n",
    "    jour_max = data['Day of Week'].mode()[0]\n",
    "    return jour_max"
   ]
  },
  {
   "cell_type": "code",
   "execution_count": 5,
   "id": "bbf6f770-efea-49c8-9224-b0a0a11346c7",
   "metadata": {},
   "outputs": [],
   "source": [
    "def heure_demarrage_courante(data):\n",
    "    # Convertir la colonne 'Start Time' en datetime\n",
    "    data['Start Time'] = pd.to_datetime(data['Start Time'])\n",
    "    # Extraire l'heure de démarrage\n",
    "    data['Hour'] = data['Start Time'].dt.hour\n",
    "    # Trouver l'heure de démarrage la plus courante\n",
    "    heure_courante = data['Hour'].mode()[0]\n",
    "    return heure_courante"
   ]
  },
  {
   "cell_type": "code",
   "execution_count": 6,
   "id": "fb797467-703a-4bc6-98cd-da0e1132967b",
   "metadata": {},
   "outputs": [],
   "source": [
    "def duree_voyage_moyenne(data):\n",
    "    # Calculer la durée moyenne\n",
    "    df_meanm = data['Trip Duration'].mean()\n",
    "    # Convertir la durée moyenne en heures, minutes et secondes\n",
    "    hours, remainder = divmod(df_meanm, 3600)\n",
    "    minutes, seconds = divmod(remainder, 60)\n",
    "    seconds = round(seconds)\n",
    "    # Formatter en heure:minutes:secondes\n",
    "    return '{:02}:{:02}:{:02}'.format(int(hours), int(minutes), int(seconds))"
   ]
  },
  {
   "cell_type": "code",
   "execution_count": 7,
   "id": "c5ea5b7f-bd4f-4508-8a63-8720261f2dc1",
   "metadata": {},
   "outputs": [],
   "source": [
    "def total_categorie_user(data):\n",
    "    # Compter les occurrences de chaque catégorie\n",
    "    total_categorie = data['User Type'].value_counts()\n",
    "    return total_categorie"
   ]
  },
  {
   "cell_type": "code",
   "execution_count": 8,
   "id": "cba098b0-42a1-44e4-991f-2589902f74f2",
   "metadata": {},
   "outputs": [],
   "source": [
    "def nombre_femmes_hommes(data):\n",
    "    # Compter les occurrences de chaque sexe\n",
    "    data['Gender'] = data['Gender'].replace({0: 'femme', 1: 'homme', 2: 'autre'})\n",
    "    nombre_sexe = data['Gender'].value_counts()\n",
    "    return nombre_sexe"
   ]
  },
  {
   "cell_type": "code",
   "execution_count": 9,
   "id": "5712a222-31a5-4fec-9085-c8fe12460bc1",
   "metadata": {},
   "outputs": [],
   "source": [
    "def annee_naissance(data):\n",
    "    # Supprimer les lignes avec des valeurs manquantes\n",
    "    data = data.dropna(subset=['Birth Year'])\n",
    "    # Convertir la colonne 'Birth Year' en entier\n",
    "    # data['Birth Year'] = data['Birth Year'].astype(int)\n",
    "    # Calculer l'année la plus ancienne, la plus récente et la plus courante\n",
    "    annee_ancienne = data['Birth Year'].min()\n",
    "    annee_recente = data['Birth Year'].max()\n",
    "    annee_courante = data['Birth Year'].value_counts().sort_values(ascending=False).index[0]\n",
    "    return annee_ancienne, annee_recente, annee_courante"
   ]
  },
  {
   "cell_type": "code",
   "execution_count": 10,
   "id": "0dde05c2-7fed-4824-9dc8-c903dc8e3a73",
   "metadata": {},
   "outputs": [],
   "source": [
    "def afficher_donnees(data):\n",
    "    print(data.head(10))"
   ]
  },
  {
   "cell_type": "code",
   "execution_count": null,
   "id": "6b88787b-bccf-4f11-af32-1ddd0711cc29",
   "metadata": {},
   "outputs": [],
   "source": []
  },
  {
   "cell_type": "code",
   "execution_count": null,
   "id": "73a97271-44c6-4879-b1e7-384ee92f1f5f",
   "metadata": {},
   "outputs": [
    {
     "name": "stdin",
     "output_type": "stream",
     "text": [
      "Veuillez choisir une ville parmi New York City, Chicago ou Washington ou Close pour fermer : Chicago\n",
      "Veuillez choisir le mois :\t 7 = juillet \t 8 = aout \t 9 = septembre  8\n"
     ]
    },
    {
     "name": "stderr",
     "output_type": "stream",
     "text": [
      "C:\\Users\\Magal\\AppData\\Local\\Temp\\ipykernel_17276\\1563496820.py:3: SettingWithCopyWarning: \n",
      "A value is trying to be set on a copy of a slice from a DataFrame.\n",
      "Try using .loc[row_indexer,col_indexer] = value instead\n",
      "\n",
      "See the caveats in the documentation: https://pandas.pydata.org/pandas-docs/stable/user_guide/indexing.html#returning-a-view-versus-a-copy\n",
      "  data['Start Time'] = pd.to_datetime(data['Start Time'])\n",
      "C:\\Users\\Magal\\AppData\\Local\\Temp\\ipykernel_17276\\1563496820.py:5: SettingWithCopyWarning: \n",
      "A value is trying to be set on a copy of a slice from a DataFrame.\n",
      "Try using .loc[row_indexer,col_indexer] = value instead\n",
      "\n",
      "See the caveats in the documentation: https://pandas.pydata.org/pandas-docs/stable/user_guide/indexing.html#returning-a-view-versus-a-copy\n",
      "  data['Day of Week'] = data['Start Time'].dt.dayofweek\n",
      "C:\\Users\\Magal\\AppData\\Local\\Temp\\ipykernel_17276\\2569288109.py:3: SettingWithCopyWarning: \n",
      "A value is trying to be set on a copy of a slice from a DataFrame.\n",
      "Try using .loc[row_indexer,col_indexer] = value instead\n",
      "\n",
      "See the caveats in the documentation: https://pandas.pydata.org/pandas-docs/stable/user_guide/indexing.html#returning-a-view-versus-a-copy\n",
      "  data['Start Time'] = pd.to_datetime(data['Start Time'])\n",
      "C:\\Users\\Magal\\AppData\\Local\\Temp\\ipykernel_17276\\2569288109.py:5: SettingWithCopyWarning: \n",
      "A value is trying to be set on a copy of a slice from a DataFrame.\n",
      "Try using .loc[row_indexer,col_indexer] = value instead\n",
      "\n",
      "See the caveats in the documentation: https://pandas.pydata.org/pandas-docs/stable/user_guide/indexing.html#returning-a-view-versus-a-copy\n",
      "  data['Hour'] = data['Start Time'].dt.hour\n",
      "C:\\Users\\Magal\\AppData\\Local\\Temp\\ipykernel_17276\\303860785.py:3: SettingWithCopyWarning: \n",
      "A value is trying to be set on a copy of a slice from a DataFrame.\n",
      "Try using .loc[row_indexer,col_indexer] = value instead\n",
      "\n",
      "See the caveats in the documentation: https://pandas.pydata.org/pandas-docs/stable/user_guide/indexing.html#returning-a-view-versus-a-copy\n",
      "  data['Gender'] = data['Gender'].replace({0: 'femme', 1: 'homme', 2: 'autre'})\n"
     ]
    },
    {
     "name": "stdout",
     "output_type": "stream",
     "text": [
      "\n",
      "Statistiques pour Chicago en 8 :\n",
      "\n",
      "Jour de la semaine avec le plus d'activité : 3\n",
      "Heure de démarrage la plus courante : 23h\n",
      "La durée moyenne d'un trajet est de : 00:11:38\n",
      "\n",
      "Total par catégorie de User :\n",
      "User Type\n",
      "Subscriber    255\n",
      "Customer       27\n",
      "Name: count, dtype: int64\n",
      "\n",
      "Nombre total de femmes et d'hommes :\n",
      "Gender\n",
      "homme    208\n",
      "autre     43\n",
      "femme     31\n",
      "Name: count, dtype: int64\n",
      "\n",
      "Année de naissance la plus ancienne : 1950.0\n",
      "Année de naissance la plus récente : 2000.0\n",
      "Année de naissance la plus courante : 1985.0 (20 occurrences)\n",
      "\n",
      "Voulez-vous afficher les 10 premières lignes de données ? (oui/non)\n"
     ]
    },
    {
     "name": "stdin",
     "output_type": "stream",
     "text": [
      " non\n"
     ]
    },
    {
     "name": "stdout",
     "output_type": "stream",
     "text": [
      "\n",
      "Voulez-vous effectuer une autre recherche ? (oui/non)\n"
     ]
    },
    {
     "name": "stdin",
     "output_type": "stream",
     "text": [
      " oui\n",
      "Veuillez choisir une ville parmi New York City, Chicago ou Washington ou Close pour fermer : Washington\n",
      "Veuillez choisir le mois :\t 10 = octobre \t 11 = novembre \t 12 = décembre  11\n"
     ]
    },
    {
     "name": "stderr",
     "output_type": "stream",
     "text": [
      "C:\\Users\\Magal\\AppData\\Local\\Temp\\ipykernel_17276\\1563496820.py:3: SettingWithCopyWarning: \n",
      "A value is trying to be set on a copy of a slice from a DataFrame.\n",
      "Try using .loc[row_indexer,col_indexer] = value instead\n",
      "\n",
      "See the caveats in the documentation: https://pandas.pydata.org/pandas-docs/stable/user_guide/indexing.html#returning-a-view-versus-a-copy\n",
      "  data['Start Time'] = pd.to_datetime(data['Start Time'])\n",
      "C:\\Users\\Magal\\AppData\\Local\\Temp\\ipykernel_17276\\1563496820.py:5: SettingWithCopyWarning: \n",
      "A value is trying to be set on a copy of a slice from a DataFrame.\n",
      "Try using .loc[row_indexer,col_indexer] = value instead\n",
      "\n",
      "See the caveats in the documentation: https://pandas.pydata.org/pandas-docs/stable/user_guide/indexing.html#returning-a-view-versus-a-copy\n",
      "  data['Day of Week'] = data['Start Time'].dt.dayofweek\n",
      "C:\\Users\\Magal\\AppData\\Local\\Temp\\ipykernel_17276\\2569288109.py:3: SettingWithCopyWarning: \n",
      "A value is trying to be set on a copy of a slice from a DataFrame.\n",
      "Try using .loc[row_indexer,col_indexer] = value instead\n",
      "\n",
      "See the caveats in the documentation: https://pandas.pydata.org/pandas-docs/stable/user_guide/indexing.html#returning-a-view-versus-a-copy\n",
      "  data['Start Time'] = pd.to_datetime(data['Start Time'])\n",
      "C:\\Users\\Magal\\AppData\\Local\\Temp\\ipykernel_17276\\2569288109.py:5: SettingWithCopyWarning: \n",
      "A value is trying to be set on a copy of a slice from a DataFrame.\n",
      "Try using .loc[row_indexer,col_indexer] = value instead\n",
      "\n",
      "See the caveats in the documentation: https://pandas.pydata.org/pandas-docs/stable/user_guide/indexing.html#returning-a-view-versus-a-copy\n",
      "  data['Hour'] = data['Start Time'].dt.hour\n",
      "C:\\Users\\Magal\\AppData\\Local\\Temp\\ipykernel_17276\\303860785.py:3: SettingWithCopyWarning: \n",
      "A value is trying to be set on a copy of a slice from a DataFrame.\n",
      "Try using .loc[row_indexer,col_indexer] = value instead\n",
      "\n",
      "See the caveats in the documentation: https://pandas.pydata.org/pandas-docs/stable/user_guide/indexing.html#returning-a-view-versus-a-copy\n",
      "  data['Gender'] = data['Gender'].replace({0: 'femme', 1: 'homme', 2: 'autre'})\n"
     ]
    },
    {
     "name": "stdout",
     "output_type": "stream",
     "text": [
      "\n",
      "Statistiques pour Washington en 11 :\n",
      "\n",
      "Jour de la semaine avec le plus d'activité : 2\n",
      "Heure de démarrage la plus courante : 6h\n",
      "La durée moyenne d'un trajet est de : 00:26:49\n",
      "\n",
      "Total par catégorie de User :\n",
      "User Type\n",
      "Subscriber    7579\n",
      "Customer       139\n",
      "Name: count, dtype: int64\n",
      "\n",
      "Nombre total de femmes et d'hommes :\n",
      "Gender\n",
      "homme    5634\n",
      "autre    1354\n",
      "1         439\n",
      "femme     188\n",
      "2          69\n",
      "0          34\n",
      "Name: count, dtype: int64\n",
      "\n",
      "Année de naissance la plus ancienne : 1894.0\n",
      "Année de naissance la plus récente : 2001.0\n",
      "Année de naissance la plus courante : 1989.0 (355 occurrences)\n",
      "\n",
      "Voulez-vous afficher les 10 premières lignes de données ? (oui/non)\n"
     ]
    },
    {
     "name": "stdin",
     "output_type": "stream",
     "text": [
      " non\n"
     ]
    },
    {
     "name": "stdout",
     "output_type": "stream",
     "text": [
      "\n",
      "Voulez-vous effectuer une autre recherche ? (oui/non)\n"
     ]
    },
    {
     "name": "stdin",
     "output_type": "stream",
     "text": [
      " oui\n",
      "Veuillez choisir une ville parmi New York City, Chicago ou Washington ou Close pour fermer : Washington\n",
      "Veuillez choisir le mois :\t 10 = octobre \t 11 = novembre \t 12 = décembre  12\n"
     ]
    },
    {
     "name": "stderr",
     "output_type": "stream",
     "text": [
      "C:\\Users\\Magal\\AppData\\Local\\Temp\\ipykernel_17276\\1563496820.py:3: SettingWithCopyWarning: \n",
      "A value is trying to be set on a copy of a slice from a DataFrame.\n",
      "Try using .loc[row_indexer,col_indexer] = value instead\n",
      "\n",
      "See the caveats in the documentation: https://pandas.pydata.org/pandas-docs/stable/user_guide/indexing.html#returning-a-view-versus-a-copy\n",
      "  data['Start Time'] = pd.to_datetime(data['Start Time'])\n",
      "C:\\Users\\Magal\\AppData\\Local\\Temp\\ipykernel_17276\\1563496820.py:5: SettingWithCopyWarning: \n",
      "A value is trying to be set on a copy of a slice from a DataFrame.\n",
      "Try using .loc[row_indexer,col_indexer] = value instead\n",
      "\n",
      "See the caveats in the documentation: https://pandas.pydata.org/pandas-docs/stable/user_guide/indexing.html#returning-a-view-versus-a-copy\n",
      "  data['Day of Week'] = data['Start Time'].dt.dayofweek\n",
      "C:\\Users\\Magal\\AppData\\Local\\Temp\\ipykernel_17276\\2569288109.py:3: SettingWithCopyWarning: \n",
      "A value is trying to be set on a copy of a slice from a DataFrame.\n",
      "Try using .loc[row_indexer,col_indexer] = value instead\n",
      "\n",
      "See the caveats in the documentation: https://pandas.pydata.org/pandas-docs/stable/user_guide/indexing.html#returning-a-view-versus-a-copy\n",
      "  data['Start Time'] = pd.to_datetime(data['Start Time'])\n",
      "C:\\Users\\Magal\\AppData\\Local\\Temp\\ipykernel_17276\\2569288109.py:5: SettingWithCopyWarning: \n",
      "A value is trying to be set on a copy of a slice from a DataFrame.\n",
      "Try using .loc[row_indexer,col_indexer] = value instead\n",
      "\n",
      "See the caveats in the documentation: https://pandas.pydata.org/pandas-docs/stable/user_guide/indexing.html#returning-a-view-versus-a-copy\n",
      "  data['Hour'] = data['Start Time'].dt.hour\n",
      "C:\\Users\\Magal\\AppData\\Local\\Temp\\ipykernel_17276\\303860785.py:3: SettingWithCopyWarning: \n",
      "A value is trying to be set on a copy of a slice from a DataFrame.\n",
      "Try using .loc[row_indexer,col_indexer] = value instead\n",
      "\n",
      "See the caveats in the documentation: https://pandas.pydata.org/pandas-docs/stable/user_guide/indexing.html#returning-a-view-versus-a-copy\n",
      "  data['Gender'] = data['Gender'].replace({0: 'femme', 1: 'homme', 2: 'autre'})\n"
     ]
    },
    {
     "name": "stdout",
     "output_type": "stream",
     "text": [
      "\n",
      "Statistiques pour Washington en 12 :\n",
      "\n",
      "Jour de la semaine avec le plus d'activité : 4\n",
      "Heure de démarrage la plus courante : 6h\n",
      "La durée moyenne d'un trajet est de : 00:11:04\n",
      "\n",
      "Total par catégorie de User :\n",
      "User Type\n",
      "Subscriber    7607\n",
      "Customer       126\n",
      "Name: count, dtype: int64\n",
      "\n",
      "Nombre total de femmes et d'hommes :\n",
      "Gender\n",
      "homme    5526\n",
      "autre    1377\n",
      "1         522\n",
      "femme     190\n",
      "2          86\n",
      "0          27\n",
      "1;          5\n",
      "Name: count, dtype: int64\n",
      "\n",
      "Année de naissance la plus ancienne : 1885.0\n",
      "Année de naissance la plus récente : 2001.0\n",
      "Année de naissance la plus courante : 1989.0 (326 occurrences)\n",
      "\n",
      "Voulez-vous afficher les 10 premières lignes de données ? (oui/non)\n"
     ]
    }
   ],
   "source": [
    "# Fonction principale de l'application\n",
    "def main():\n",
    "    while True:\n",
    "        # Demander à l'utilisateur de choisir la ville et le mois\n",
    "        ville = input(\"Veuillez choisir une ville parmi New York City, Chicago ou Washington ou Close pour fermer :\")\n",
    "       \n",
    "        if ville not in ['New York City', 'Chicago', 'Washington', 'Close']:\n",
    "            print(\"Ville invalide. Veuillez choisir une ville parmi New York City, Chicago ou Washington.\")\n",
    "            continue\n",
    "            \n",
    "\n",
    "        if ville == 'Close':\n",
    "            break\n",
    "        elif ville == 'New York City':\n",
    "            mois = int(input(\"Veuillez choisir le mois :\\t 1 = janvier \\t 2 = février \\t 3 = mars \\t 4 = avril \\t 5 = mai \\t 6 = juin \"))\n",
    "            data = df_nyc\n",
    "            data['Month'] = data['Start Time'].dt.month\n",
    "            data = data[data['Month'] == mois]\n",
    "        elif ville == 'Chicago':\n",
    "            mois = int(input(\"Veuillez choisir le mois :\\t 7 = juillet \\t 8 = aout \\t 9 = septembre \"))\n",
    "            data = df_chi\n",
    "            data['Month'] = data['Start Time'].dt.month\n",
    "            data = data[data['Month'] == mois]\n",
    "        elif ville == 'Washington':\n",
    "            mois = int(input(\"Veuillez choisir le mois :\\t 10 = octobre \\t 11 = novembre \\t 12 = décembre \"))\n",
    "            data = df_wash\n",
    "            data['Month'] = data['Start Time'].dt.month\n",
    "            data = data[data['Month'] == mois]\n",
    "\n",
    "\n",
    "        \n",
    "\n",
    "            \n",
    "        # Calculer les statistiques demandées\n",
    "        jour_max = jour_activite_max(data)\n",
    "        heure_courante = heure_demarrage_courante(data)\n",
    "        duree_moyenne = duree_voyage_moyenne(data)\n",
    "        total_categorie = total_categorie_user(data)\n",
    "        nombre_sexe = nombre_femmes_hommes(data)\n",
    "        annee_ancienne, annee_recente, annee_courante = annee_naissance(data)\n",
    "        \n",
    "        # Afficher les résultats\n",
    "        print(\"\\nStatistiques pour {} en {} :\\n\".format(ville.title(), mois))\n",
    "        print(\"Jour de la semaine avec le plus d'activité : {}\".format(jour_max))\n",
    "        print(\"Heure de démarrage la plus courante : {}h\".format(heure_courante))\n",
    "        print(\"La durée moyenne d'un trajet est de : {}\".format(duree_moyenne))\n",
    "        print(\"\\nTotal par catégorie de User :\\n{}\".format(total_categorie))\n",
    "        print(\"\\nNombre total de femmes et d'hommes :\\n{}\".format(nombre_sexe))\n",
    "        print(\"\\nAnnée de naissance la plus ancienne : {}\".format(annee_ancienne))\n",
    "        print(\"Année de naissance la plus récente : {}\".format(annee_recente))\n",
    "        print(\"Année de naissance la plus courante : {} ({} occurrences)\".format(annee_courante, data['Birth Year'].value_counts().max()))\n",
    "        \n",
    "        # Demander si l'utilisateur souhaite afficher les 10 premières lignes de données\n",
    "        print(\"\\nVoulez-vous afficher les 10 premières lignes de données ? (oui/non)\")\n",
    "        afficher = input().lower()\n",
    "        if afficher == 'oui':\n",
    "            afficher_donnees(data)\n",
    "        \n",
    "        # Demander si l'utilisateur souhaite effectuer une autre recherche\n",
    "        print(\"\\nVoulez-vous effectuer une autre recherche ? (oui/non)\")\n",
    "        autre_recherche = input().lower()\n",
    "        if autre_recherche != 'oui':\n",
    "            break\n",
    "\n",
    "if __name__ == \"__main__\":\n",
    "    main()"
   ]
  },
  {
   "cell_type": "code",
   "execution_count": null,
   "id": "3b824f46-ffe5-4c0f-8831-baa5e6035d79",
   "metadata": {},
   "outputs": [],
   "source": []
  }
 ],
 "metadata": {
  "kernelspec": {
   "display_name": "Python 3 (ipykernel)",
   "language": "python",
   "name": "python3"
  },
  "language_info": {
   "codemirror_mode": {
    "name": "ipython",
    "version": 3
   },
   "file_extension": ".py",
   "mimetype": "text/x-python",
   "name": "python",
   "nbconvert_exporter": "python",
   "pygments_lexer": "ipython3",
   "version": "3.11.6"
  }
 },
 "nbformat": 4,
 "nbformat_minor": 5
}
